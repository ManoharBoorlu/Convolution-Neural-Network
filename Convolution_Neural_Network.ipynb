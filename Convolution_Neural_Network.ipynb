{
 "cells": [
  {
   "cell_type": "code",
   "execution_count": 2,
   "metadata": {},
   "outputs": [
    {
     "name": "stderr",
     "output_type": "stream",
     "text": [
      "/Users/mano/anaconda3/lib/python3.6/site-packages/ipykernel_launcher.py:11: UserWarning: Update your `Conv2D` call to the Keras 2 API: `Conv2D(32, (3, 3), input_shape=(64, 64, 3..., activation=\"relu\")`\n",
      "  # This is added back by InteractiveShellApp.init_path()\n",
      "/Users/mano/anaconda3/lib/python3.6/site-packages/ipykernel_launcher.py:21: UserWarning: Update your `Dense` call to the Keras 2 API: `Dense(activation=\"relu\", units=128)`\n",
      "/Users/mano/anaconda3/lib/python3.6/site-packages/ipykernel_launcher.py:22: UserWarning: Update your `Dense` call to the Keras 2 API: `Dense(activation=\"sigmoid\", units=1)`\n"
     ]
    },
    {
     "name": "stdout",
     "output_type": "stream",
     "text": [
      "Found 8000 images belonging to 2 classes.\n",
      "Found 2000 images belonging to 2 classes.\n",
      "Epoch 1/5\n",
      "8000/8000 [==============================] - 1501s 188ms/step - loss: 0.3868 - acc: 0.8178 - val_loss: 0.7447 - val_acc: 0.7559\n",
      "Epoch 2/5\n",
      "8000/8000 [==============================] - 2848s 356ms/step - loss: 0.1361 - acc: 0.9476 - val_loss: 1.1620 - val_acc: 0.7637\n",
      "Epoch 3/5\n",
      "8000/8000 [==============================] - 2741s 343ms/step - loss: 0.0732 - acc: 0.9735 - val_loss: 1.4501 - val_acc: 0.7444\n",
      "Epoch 4/5\n",
      "8000/8000 [==============================] - 2156s 270ms/step - loss: 0.0500 - acc: 0.9829 - val_loss: 1.5154 - val_acc: 0.7579\n",
      "Epoch 5/5\n",
      "8000/8000 [==============================] - 1361s 170ms/step - loss: 0.0413 - acc: 0.9859 - val_loss: 1.6382 - val_acc: 0.7640\n"
     ]
    },
    {
     "data": {
      "text/plain": [
       "<keras.callbacks.History at 0xb2ee61f28>"
      ]
     },
     "execution_count": 2,
     "metadata": {},
     "output_type": "execute_result"
    }
   ],
   "source": [
    "from keras.models import Sequential\n",
    "from keras.layers import Convolution2D\n",
    "from keras.layers import MaxPool2D\n",
    "from keras.layers import Flatten\n",
    "from keras.layers import Dense\n",
    "\n",
    "#initialising the CNN\n",
    "classifier = Sequential()\n",
    "\n",
    "#step 1 - convolution\n",
    "classifier.add(Convolution2D(32,3,3,input_shape = (64,64,3),activation='relu'))\n",
    "\n",
    "#step 2 - pooling \n",
    "classifier.add(MaxPool2D(pool_size=(2,2)))\n",
    "\n",
    "\n",
    "#step 3 - Flatten\n",
    "classifier.add(Flatten())\n",
    "\n",
    "#step 4 - full connection\n",
    "classifier.add(Dense(output_dim = 128,activation='relu'))\n",
    "classifier.add(Dense(output_dim = 1,activation='sigmoid'))\n",
    "\n",
    "#compiling\n",
    "classifier.compile(optimizer='adam',loss='binary_crossentropy',metrics=['accuracy'])\n",
    "\n",
    "#part 2 - fitting the cnn to images\n",
    "from keras.preprocessing.image import ImageDataGenerator\n",
    "\n",
    "train_datagen = ImageDataGenerator(rescale=1./255,\n",
    "                                   shear_range=0.2,\n",
    "                                   zoom_range=0.2,\n",
    "                                   horizontal_flip=True)\n",
    "\n",
    "test_datagen = ImageDataGenerator(rescale=1./255)\n",
    "\n",
    "training_set = train_datagen.flow_from_directory('dataset/training_set',\n",
    "                                                    target_size=(64, 64),\n",
    "                                                    batch_size=32,\n",
    "                                                    class_mode='binary')\n",
    "\n",
    "test_set = test_datagen.flow_from_directory('dataset/test_set',\n",
    "                                            target_size=(64, 64),\n",
    "                                            batch_size=32,\n",
    "                                            class_mode='binary')\n",
    "\n",
    "classifier.fit_generator(training_set,\n",
    "                         steps_per_epoch=8000,\n",
    "                         epochs=5,\n",
    "                         validation_data=test_set,\n",
    "                         validation_steps=2000)"
   ]
  },
  {
   "cell_type": "code",
   "execution_count": null,
   "metadata": {},
   "outputs": [],
   "source": []
  }
 ],
 "metadata": {
  "kernelspec": {
   "display_name": "Python 3",
   "language": "python",
   "name": "python3"
  },
  "language_info": {
   "codemirror_mode": {
    "name": "ipython",
    "version": 3
   },
   "file_extension": ".py",
   "mimetype": "text/x-python",
   "name": "python",
   "nbconvert_exporter": "python",
   "pygments_lexer": "ipython3",
   "version": "3.6.6"
  }
 },
 "nbformat": 4,
 "nbformat_minor": 2
}
